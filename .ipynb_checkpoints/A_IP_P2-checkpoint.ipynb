{
 "cells": [
  {
   "cell_type": "code",
   "execution_count": null,
   "id": "d6d5551f-f810-4fc4-b3ac-387ed4257ef4",
   "metadata": {},
   "outputs": [],
   "source": [
    "# The code to display an image in markdown, ![Markdown](Scatter_plot.png)"
   ]
  },
  {
   "cell_type": "markdown",
   "id": "40c56278-fe4b-4b61-b3f4-50acb06d93d9",
   "metadata": {},
   "source": [
    "1. Based on the plot, which of the following best describes the pattern observed?\n",
    "\n",
    "![Markdown](Scatter_plot.png)\n",
    "\n",
    "```\n",
    "The data indicates a weak linear relationship, with 'Standard_yield' slightly increasing as 'Rainfall' increases.\r\n",
    "The data indicates a strong linear relationship, with 'Standard_yield' increasing consistently as 'Rainfall' increases.\r\n",
    "The data indicates no discernible relationship, with 'Standard_yield' being independent of 'Rainfall'.\r\n",
    "The data indicates a non-linear relationship, with 'Standard_yield' showing variability at different levels of 'Rainfal\n",
    "```l'."
   ]
  },
  {
   "cell_type": "code",
   "execution_count": null,
   "id": "4539a6b3-7d75-45a1-b121-3b6acf63b1d7",
   "metadata": {},
   "outputs": [],
   "source": [
    "# The data indicates a non-linear relationship, with 'Standard_yield' showing variability at different levels of 'Rainfall'."
   ]
  },
  {
   "cell_type": "markdown",
   "id": "31a38af2-83ec-4025-9317-c4446987412c",
   "metadata": {},
   "source": [
    "2. Which weather station is linked to the most number of fields?\n",
    "\n",
    "```\n",
    "4\n",
    "0\n",
    "2\n",
    "1\n",
    "3\n",
    "```"
   ]
  },
  {
   "cell_type": "code",
   "execution_count": 2,
   "id": "71c57585-6e72-44de-b6e9-7108359e93d9",
   "metadata": {},
   "outputs": [],
   "source": [
    "# 0"
   ]
  },
  {
   "cell_type": "markdown",
   "id": "41f34dc6-760d-492e-bc42-d6fd45ae5943",
   "metadata": {},
   "source": [
    "3. An environmental monitoring station has updated its rainfall data transmission format. The current regex pattern for capturing rainfall data is not compatible with this new format. Given the existing pattern:\n",
    "\n",
    "'Rainfall': r'(\\d+(\\.\\d+)?)\\s?mm',\n",
    "\n",
    "The new message format is as follows:\n",
    "\n",
    "\"Rainfall Update: In the last 24 hours, there has been rainfall amounting to 25 millimetres as of 2024-01-31 10:00.\"\n",
    "\n",
    "Which of the following modifications to the regex pattern will accurately capture the rainfall data in both the new and existing message formats?\n",
    "\n",
    "```\n",
    "r'(\\d+(\\.\\d+)?)\\s?\n",
    "r'(\\d+(\\.\\d+)?)\\s?(mm|millimetres)'\n",
    "r'In the last 24 hours, (\\d+(\\.\\d+)?)'\n",
    "r'(\\d+(\\.\\d+)?)\\s*millimetres'\n",
    "r'rainfall\\samounting\\s*to\\s(\\d+(\\.\\d+)?)'\n",
    "```"
   ]
  },
  {
   "cell_type": "code",
   "execution_count": null,
   "id": "2122b6b8-0983-49c5-9caf-199afb3a3962",
   "metadata": {},
   "outputs": [],
   "source": [
    "# r'(\\d+(\\.\\d+)?)\\s?(mm|millimetres)'"
   ]
  },
  {
   "cell_type": "markdown",
   "id": "d440653d-b32c-425a-bfee-e6810c0dfd41",
   "metadata": {},
   "source": [
    "4. Which of the following crops have a strong positive linear relationship between Standard_Yield and pH?\n",
    "\n",
    "```\n",
    "Tea\n",
    "Potato\n",
    "Banana\n",
    "Cassava\n",
    "```"
   ]
  },
  {
   "cell_type": "code",
   "execution_count": null,
   "id": "b0d64799-4063-4469-bca4-d0ce1689c093",
   "metadata": {},
   "outputs": [],
   "source": [
    "# Cassava"
   ]
  },
  {
   "cell_type": "markdown",
   "id": "3db03949-58eb-4c96-9a05-313d4b94bb56",
   "metadata": {},
   "source": [
    "5. What is the output of the following code?\n",
    "\n",
    "def function(input):\n",
    "    filtered_df = MD_agric_df[MD_agric_df['Crop_type'] == input]\n",
    "    fig = px.scatter(filtered_df, x='Elevation', y='Annual_yield', color='Crop_type')\n",
    "    fig.show()\n",
    "\n",
    "interact(function, input=MD_agric_df['Crop_type'].unique())\n",
    "\n",
    "```\n",
    "An error message due to incorrect use of the interact function.\n",
    "An interactive scatter plot showing 'Elevation' vs 'Annual_yield' with different crop types displayed by colour.\n",
    "A series of static scatter plots for each 'Crop_type', showing 'Elevation' vs 'Annual_yield', displayed all at once.\n",
    "An interactive scatter plot showing 'Elevation' vs 'Annual_yield' for the selected crop type, with a dropdown to filter by different 'Crop_type'.\n",
    "```"
   ]
  },
  {
   "cell_type": "code",
   "execution_count": null,
   "id": "243b20b0-d328-4b76-bd42-c531ef6c059d",
   "metadata": {},
   "outputs": [],
   "source": [
    "# An interactive scatter plot showing 'Elevation' vs 'Annual_yield' for the selected crop type, with a dropdown to filter by different 'Crop_type'."
   ]
  },
  {
   "cell_type": "markdown",
   "id": "07138be7-7222-4846-adcf-2e8fe3876f5c",
   "metadata": {},
   "source": [
    "6. Which variable is least correlated with Standard_yield?\n",
    "\n",
    "```\n",
    "Standard_yield\n",
    "Pollution_level\n",
    "Annual_yield\n",
    "Ave_temps\n",
    "```"
   ]
  },
  {
   "cell_type": "code",
   "execution_count": null,
   "id": "f6fe62d4-c190-4a8e-a910-9c88e08f9564",
   "metadata": {},
   "outputs": [],
   "source": [
    "# Ave_temps"
   ]
  },
  {
   "cell_type": "markdown",
   "id": "b7c95678-8e04-4f15-a5c6-13670d9aa78d",
   "metadata": {},
   "source": [
    "7. Which of the following variables has the strongest linear relationship?\n",
    "\n",
    "```\n",
    "Rainfall and Soil_fertility\n",
    "Pollution_level and pH\n",
    "Rainfall and Standard_yield\n",
    "Ave_temps and Soil_fertility\n",
    "```"
   ]
  },
  {
   "cell_type": "code",
   "execution_count": null,
   "id": "a8f51673-01bb-4eff-acce-42735f7afa7e",
   "metadata": {},
   "outputs": [],
   "source": [
    "# Rainfall and Soil_fertility"
   ]
  },
  {
   "cell_type": "markdown",
   "id": "495b1724-1161-4d86-bfc0-118cf905cce4",
   "metadata": {},
   "source": [
    "8. Create a KDE plot of the rainfall distribution and split the data by soil types.\n",
    "\n",
    "What can we infer from this graph?\n",
    "\n",
    "```\n",
    "Rocky, Sandy and Loamy soil types occur in places with rainfall > 1500 mm.\n",
    "The maximum height of the Silty soil type distribution curve indicates that it is the most common soil type.\n",
    "Rocky, Sandy and Loamy soil types occur in places with rainfall < 1500 mm.\n",
    "The distribution of rainfall in Peaty soils spans a range of more than 1500 mm.\n",
    "```"
   ]
  },
  {
   "cell_type": "code",
   "execution_count": null,
   "id": "0bbde596-b7d5-48fb-9ca4-2d0e8a65989a",
   "metadata": {},
   "outputs": [],
   "source": [
    "# Rocky, Sandy and Loamy soil types occur in places with rainfall < 1500 mm."
   ]
  },
  {
   "cell_type": "markdown",
   "id": "4ced10f8-f12d-4bd1-8cc0-a9365e07a535",
   "metadata": {},
   "source": [
    "9. What can be inferred from the following plot?\n",
    "\n",
    "![Plot](KDE_Question.png)\n",
    "\n",
    "```\n",
    "The plot indicates an error in the data.\n",
    "The maximum pollution level is 3.\n",
    "The mean is smaller than the median.\n",
    "Most of the fields in Maji Ndogo have a pollution rating less than 3.\n",
    "Most of the fields in Maji Ndogo have a pollution rating less than 0.5.\n",
    "```"
   ]
  },
  {
   "cell_type": "code",
   "execution_count": null,
   "id": "a0756d2c-b278-4e43-b959-300eaef932d1",
   "metadata": {},
   "outputs": [],
   "source": [
    "# Most of the fields in Maji Ndogo have a pollution rating less than 0.5."
   ]
  },
  {
   "cell_type": "markdown",
   "id": "3c029a06-a47b-4974-832f-927446dd61d3",
   "metadata": {},
   "source": [
    "10. Why is some of the data in the .describe() method in Pandas not meaningful?\n",
    "\n",
    "```\n",
    "The method is limited in processing large datasets, potentially leading to less meaningful outputs for columns with extensive data.\n",
    "There's a programming constraint in Pandas that prevents accurate calculation of descriptive statistics for certain column types.\n",
    "The method is not optimised for columns with mixed data types, leading to less meaningful or skewed statistical outputs.\n",
    "For columns like Field_ID or Crop_type, which contain unique identifiers or categorical labels, the computed descriptive statistics such as mean and median do not hold practical significance.\n",
    "```"
   ]
  },
  {
   "cell_type": "code",
   "execution_count": null,
   "id": "7de636a0-7d77-46c0-bd18-5e4fee34546f",
   "metadata": {},
   "outputs": [],
   "source": [
    "# For columns like Field_ID or Crop_type, which contain unique identifiers or categorical labels, the computed descriptive statistics such as mean and median do not hold practical significance."
   ]
  }
 ],
 "metadata": {
  "kernelspec": {
   "display_name": "Python 3 (ipykernel)",
   "language": "python",
   "name": "python3"
  },
  "language_info": {
   "codemirror_mode": {
    "name": "ipython",
    "version": 3
   },
   "file_extension": ".py",
   "mimetype": "text/x-python",
   "name": "python",
   "nbconvert_exporter": "python",
   "pygments_lexer": "ipython3",
   "version": "3.12.1"
  }
 },
 "nbformat": 4,
 "nbformat_minor": 5
}
