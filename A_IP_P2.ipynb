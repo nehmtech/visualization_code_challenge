{
 "cells": [
  {
   "cell_type": "code",
   "execution_count": null,
   "id": "d6d5551f-f810-4fc4-b3ac-387ed4257ef4",
   "metadata": {},
   "outputs": [],
   "source": [
    "# The code to display an image in markdown, ![Markdown](Scatter_plot.png)"
   ]
  },
  {
   "cell_type": "markdown",
   "id": "40c56278-fe4b-4b61-b3f4-50acb06d93d9",
   "metadata": {},
   "source": [
    "1. Based on the plot, which of the following best describes the pattern observed?\n",
    "\n",
    "![Markdown](Scatter_plot.png)\n",
    "\n",
    "```\n",
    "The data indicates a weak linear relationship, with 'Standard_yield' slightly increasing as 'Rainfall' increases.\r\n",
    "The data indicates a strong linear relationship, with 'Standard_yield' increasing consistently as 'Rainfall' increases.\r\n",
    "The data indicates no discernible relationship, with 'Standard_yield' being independent of 'Rainfall'.\r\n",
    "The data indicates a non-linear relationship, with 'Standard_yield' showing variability at different levels of 'Rainfal\n",
    "```l'."
   ]
  },
  {
   "cell_type": "code",
   "execution_count": null,
   "id": "4539a6b3-7d75-45a1-b121-3b6acf63b1d7",
   "metadata": {},
   "outputs": [],
   "source": [
    "# The data indicates a non-linear relationship, with 'Standard_yield' showing variability at different levels of 'Rainfall'."
   ]
  },
  {
   "cell_type": "markdown",
   "id": "31a38af2-83ec-4025-9317-c4446987412c",
   "metadata": {},
   "source": [
    "1. Which weather station is linked to the most number of fields?\n",
    "\n",
    "```\n",
    "4\n",
    "0\n",
    "2\n",
    "1\n",
    "3\n",
    "```"
   ]
  },
  {
   "cell_type": "code",
   "execution_count": 2,
   "id": "71c57585-6e72-44de-b6e9-7108359e93d9",
   "metadata": {},
   "outputs": [],
   "source": [
    "# 0"
   ]
  },
  {
   "cell_type": "code",
   "execution_count": null,
   "id": "87e196bc-276b-4be5-8fea-a0099fa68aab",
   "metadata": {},
   "outputs": [],
   "source": []
  }
 ],
 "metadata": {
  "kernelspec": {
   "display_name": "Python 3 (ipykernel)",
   "language": "python",
   "name": "python3"
  },
  "language_info": {
   "codemirror_mode": {
    "name": "ipython",
    "version": 3
   },
   "file_extension": ".py",
   "mimetype": "text/x-python",
   "name": "python",
   "nbconvert_exporter": "python",
   "pygments_lexer": "ipython3",
   "version": "3.12.1"
  }
 },
 "nbformat": 4,
 "nbformat_minor": 5
}
